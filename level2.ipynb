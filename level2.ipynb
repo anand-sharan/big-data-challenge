{
  "nbformat": 4,
  "nbformat_minor": 0,
  "metadata": {
    "colab": {
      "name": "level2.ipynb",
      "provenance": [],
      "collapsed_sections": [],
      "toc_visible": true
    },
    "kernelspec": {
      "display_name": "Python 3",
      "name": "python3"
    }
  },
  "cells": [
    {
      "cell_type": "code",
      "metadata": {
        "colab": {
          "base_uri": "https://localhost:8080/"
        },
        "id": "Ov_kKIKEVfRk",
        "outputId": "c0053928-ca65-4df3-c419-e30b657bf0b9"
      },
      "source": [
        "import os\r\n",
        "# Find the latest version of spark 3.0  from http://www-us.apache.org/dist/spark/ and enter as the spark version\r\n",
        "# For example:\r\n",
        "# spark_version = 'spark-3.0.1'\r\n",
        "spark_version = 'spark-3.0.1'\r\n",
        "os.environ['SPARK_VERSION']=spark_version\r\n",
        "\r\n",
        "# Install Spark and Java\r\n",
        "!apt-get update\r\n",
        "!apt-get install openjdk-11-jdk-headless -qq > /dev/null\r\n",
        "!wget -q http://www-us.apache.org/dist/spark/$SPARK_VERSION/$SPARK_VERSION-bin-hadoop2.7.tgz\r\n",
        "!tar xf $SPARK_VERSION-bin-hadoop2.7.tgz\r\n",
        "!pip install -q findspark\r\n",
        "\r\n",
        "# Set Environment Variables\r\n",
        "import os\r\n",
        "os.environ[\"JAVA_HOME\"] = \"/usr/lib/jvm/java-11-openjdk-amd64\"\r\n",
        "os.environ[\"SPARK_HOME\"] = f\"/content/{spark_version}-bin-hadoop2.7\"\r\n",
        "\r\n",
        "# Start a SparkSession\r\n",
        "import findspark\r\n",
        "findspark.init()"
      ],
      "execution_count": 13,
      "outputs": [
        {
          "output_type": "stream",
          "text": [
            "Ign:1 https://developer.download.nvidia.com/compute/cuda/repos/ubuntu1804/x86_64  InRelease\n",
            "Hit:2 https://cloud.r-project.org/bin/linux/ubuntu bionic-cran40/ InRelease\n",
            "Get:3 http://security.ubuntu.com/ubuntu bionic-security InRelease [88.7 kB]\n",
            "Hit:4 http://ppa.launchpad.net/c2d4u.team/c2d4u4.0+/ubuntu bionic InRelease\n",
            "Ign:5 https://developer.download.nvidia.com/compute/machine-learning/repos/ubuntu1804/x86_64  InRelease\n",
            "Hit:6 https://developer.download.nvidia.com/compute/cuda/repos/ubuntu1804/x86_64  Release\n",
            "Hit:7 https://developer.download.nvidia.com/compute/machine-learning/repos/ubuntu1804/x86_64  Release\n",
            "Hit:8 http://archive.ubuntu.com/ubuntu bionic InRelease\n",
            "Hit:9 http://ppa.launchpad.net/cran/libgit2/ubuntu bionic InRelease\n",
            "Get:10 http://archive.ubuntu.com/ubuntu bionic-updates InRelease [88.7 kB]\n",
            "Hit:11 http://ppa.launchpad.net/graphics-drivers/ppa/ubuntu bionic InRelease\n",
            "Get:12 http://archive.ubuntu.com/ubuntu bionic-backports InRelease [74.6 kB]\n",
            "Fetched 252 kB in 2s (112 kB/s)\n",
            "Reading package lists... Done\n"
          ],
          "name": "stdout"
        }
      ]
    },
    {
      "cell_type": "code",
      "metadata": {
        "id": "3SC-eQ4yVxtF"
      },
      "source": [
        "from pyspark.sql import SparkSession\r\n",
        "spark = SparkSession.builder.appName(\"L2\").getOrCreate()"
      ],
      "execution_count": 14,
      "outputs": []
    },
    {
      "cell_type": "markdown",
      "metadata": {
        "id": "kIKOLcaaWPYg"
      },
      "source": [
        "# Loading files into Spark DataFrame"
      ]
    },
    {
      "cell_type": "code",
      "metadata": {
        "id": "4opIZCHMWHja",
        "colab": {
          "base_uri": "https://localhost:8080/"
        },
        "outputId": "1a10fabe-43b6-4a4c-d02e-fd105c5624c1"
      },
      "source": [
        "from pyspark import SparkFiles\r\n",
        "url = \"https://s3.amazonaws.com/amazon-reviews-pds/tsv/amazon_reviews_us_Camera_v1_00.tsv.gz\"\r\n",
        "spark.sparkContext.addFile(url)\r\n",
        "cameras_df = spark.read.csv(SparkFiles.get(\"amazon_reviews_us_Camera_v1_00.tsv.gz\"), sep=\"\\t\", header=True)\r\n",
        "cameras_df = cameras_df.dropna()\r\n",
        "cameras_df = cameras_df.drop_duplicates()\r\n",
        "cameras_df.show(10)"
      ],
      "execution_count": 15,
      "outputs": [
        {
          "output_type": "stream",
          "text": [
            "+-----------+-----------+--------------+----------+--------------+--------------------+----------------+-----------+-------------+-----------+----+-----------------+--------------------+--------------------+-----------+\n",
            "|marketplace|customer_id|     review_id|product_id|product_parent|       product_title|product_category|star_rating|helpful_votes|total_votes|vine|verified_purchase|     review_headline|         review_body|review_date|\n",
            "+-----------+-----------+--------------+----------+--------------+--------------------+----------------+-----------+-------------+-----------+----+-----------------+--------------------+--------------------+-----------+\n",
            "|         US|   42900361|R1006EGZ9CPJP5|B00M07I2YC|     645536663|Nikon COOLPIX AW1...|          Camera|          5|            1|          1|   N|                Y|As good as the re...|great camera, ver...| 2015-01-01|\n",
            "|         US|   46413833| R1014HFB7LT6D|B005HY4TXS|     810992030|JOBY Micro Hybrid...|          Camera|          5|            5|          5|   N|                Y|This thing should...|I recently purcha...| 2012-12-13|\n",
            "|         US|   16227012|R101EWV42EDDZ3|B00009R6FV|     408598223|Manfrotto 679B Mo...|          Camera|          5|            1|          1|   N|                Y|  excellent  monopod|I needed a second...| 2014-05-12|\n",
            "|         US|   13929688|R102BEG999GARX|B001TSSOQY|     330601228|CowboyStudio Blac...|          Camera|          4|            0|          5|   N|                N|It works, but $21...|This was my first...| 2012-04-10|\n",
            "|         US|   47814869|R103A1CV3F69NS|B0048IW030|     990185820|Professional Clea...|          Camera|          5|            0|          0|   N|                N|Great little clea...|I was searching f...| 2013-08-12|\n",
            "|         US|   35751178|R104HWMYBVOGGY|B000P41DVG|     855766027|Tamrac 5515 Adven...|          Camera|          5|            1|          1|   N|                N|          Sturdy bag|The 5515 is the p...| 2010-04-12|\n",
            "|         US|   12418820|R104JY83ZI0SSX|B0044XAXLU|     783331329|Zykkor Macro Exte...|          Camera|          1|            1|          1|   N|                Y|    A Piece of Junk!|It does actually ...| 2014-04-15|\n",
            "|         US|   21868179|R104UXCOW5V7AF|B00005RH7M|      61995094|Minolta Dimage Qu...|          Camera|          5|            0|          0|   N|                N|       Great Product|I was surprised t...| 2008-06-30|\n",
            "|         US|   21278613|R1052PBM1E3ZX6|B00OT7W6VQ|     840491020|Fujifilm instax m...|          Camera|          5|            0|          0|   N|                Y|          Five Stars|Very excellent an...| 2015-03-29|\n",
            "|         US|   23296488|R1052RLYZT120F|B001196MG0|     250259634|Savage 107X12-1 S...|          Camera|          5|            0|          0|   N|                Y|          Excellent!|Absolutely perfec...| 2012-07-07|\n",
            "+-----------+-----------+--------------+----------+--------------+--------------------+----------------+-----------+-------------+-----------+----+-----------------+--------------------+--------------------+-----------+\n",
            "only showing top 10 rows\n",
            "\n"
          ],
          "name": "stdout"
        }
      ]
    },
    {
      "cell_type": "markdown",
      "metadata": {
        "id": "DoKFD5qHWXi1"
      },
      "source": [
        "# Games which received votes greater than or equal to 20"
      ]
    },
    {
      "cell_type": "code",
      "metadata": {
        "id": "hh7Iy7vsWVNt",
        "colab": {
          "base_uri": "https://localhost:8080/"
        },
        "outputId": "d99f6ac9-46b4-458d-cd95-a40ff83e6000"
      },
      "source": [
        "cameras_subset_df = cameras_df.select([\"star_rating\", \"helpful_votes\", \"total_votes\", \"vine\", \"verified_purchase\"])\r\n",
        "cameras_subset_df.show(10)"
      ],
      "execution_count": 16,
      "outputs": [
        {
          "output_type": "stream",
          "text": [
            "+-----------+-------------+-----------+----+-----------------+\n",
            "|star_rating|helpful_votes|total_votes|vine|verified_purchase|\n",
            "+-----------+-------------+-----------+----+-----------------+\n",
            "|          5|            1|          1|   N|                Y|\n",
            "|          5|            5|          5|   N|                Y|\n",
            "|          5|            1|          1|   N|                Y|\n",
            "|          4|            0|          5|   N|                N|\n",
            "|          5|            0|          0|   N|                N|\n",
            "|          5|            1|          1|   N|                N|\n",
            "|          1|            1|          1|   N|                Y|\n",
            "|          5|            0|          0|   N|                N|\n",
            "|          5|            0|          0|   N|                Y|\n",
            "|          5|            0|          0|   N|                Y|\n",
            "+-----------+-------------+-----------+----+-----------------+\n",
            "only showing top 10 rows\n",
            "\n"
          ],
          "name": "stdout"
        }
      ]
    },
    {
      "cell_type": "code",
      "metadata": {
        "id": "S4ZLuf-1WebH",
        "colab": {
          "base_uri": "https://localhost:8080/"
        },
        "outputId": "f712f539-9a17-45fe-b710-9b870c544690"
      },
      "source": [
        "# Filter Games with Votes greater than or equal to 20\r\n",
        "total_votes_greater_than_20_percentage_df = cameras_subset_df.filter(cameras_subset_df[\"total_votes\"] >= 20)\r\n",
        "total_votes_greater_than_20_percentage_df.show(10)"
      ],
      "execution_count": 17,
      "outputs": [
        {
          "output_type": "stream",
          "text": [
            "+-----------+-------------+-----------+----+-----------------+\n",
            "|star_rating|helpful_votes|total_votes|vine|verified_purchase|\n",
            "+-----------+-------------+-----------+----+-----------------+\n",
            "|          1|            1|         55|   N|                Y|\n",
            "|          5|           24|         24|   N|                N|\n",
            "|          5|           45|         51|   N|                Y|\n",
            "|          5|           40|         44|   N|                Y|\n",
            "|          1|           18|         21|   N|                Y|\n",
            "|          5|           22|         25|   N|                Y|\n",
            "|          4|          599|        610|   N|                N|\n",
            "|          1|           63|         73|   N|                Y|\n",
            "|          5|           27|         28|   N|                N|\n",
            "|          5|           32|         37|   N|                Y|\n",
            "+-----------+-------------+-----------+----+-----------------+\n",
            "only showing top 10 rows\n",
            "\n"
          ],
          "name": "stdout"
        }
      ]
    },
    {
      "cell_type": "code",
      "metadata": {
        "id": "w5mjw7YhWmjs",
        "colab": {
          "base_uri": "https://localhost:8080/"
        },
        "outputId": "68d6714c-07f6-4a19-96a9-5dcbb654162b"
      },
      "source": [
        "# Filter Games which have 50% helpful vote percentage\r\n",
        "helpful_votes_greater_than_50_percentage_df = total_votes_greater_than_20_percentage_df.filter(total_votes_greater_than_20_percentage_df[\"helpful_votes\"]/\r\n",
        "                                                                                               total_votes_greater_than_20_percentage_df[\"total_votes\"] >= 0.5)\r\n",
        "helpful_votes_greater_than_50_percentage_df.show(10)"
      ],
      "execution_count": 18,
      "outputs": [
        {
          "output_type": "stream",
          "text": [
            "+-----------+-------------+-----------+----+-----------------+\n",
            "|star_rating|helpful_votes|total_votes|vine|verified_purchase|\n",
            "+-----------+-------------+-----------+----+-----------------+\n",
            "|          5|           24|         24|   N|                N|\n",
            "|          5|           45|         51|   N|                Y|\n",
            "|          5|           40|         44|   N|                Y|\n",
            "|          1|           18|         21|   N|                Y|\n",
            "|          5|           22|         25|   N|                Y|\n",
            "|          4|          599|        610|   N|                N|\n",
            "|          1|           63|         73|   N|                Y|\n",
            "|          5|           27|         28|   N|                N|\n",
            "|          5|           32|         37|   N|                Y|\n",
            "|          4|           24|         24|   N|                Y|\n",
            "+-----------+-------------+-----------+----+-----------------+\n",
            "only showing top 10 rows\n",
            "\n"
          ],
          "name": "stdout"
        }
      ]
    },
    {
      "cell_type": "markdown",
      "metadata": {
        "id": "_x5ZvO3QWr87"
      },
      "source": [
        "# Paid Helpful votes and Unpaid helpful votes"
      ]
    },
    {
      "cell_type": "code",
      "metadata": {
        "id": "unGE2NQEWoRW",
        "colab": {
          "base_uri": "https://localhost:8080/"
        },
        "outputId": "5f515d64-4f04-4ac5-fe43-c37f5744d3a2"
      },
      "source": [
        "# Paid helpful reviews\r\n",
        "paid_helpful_votes_greater_than_50_percentage_df = helpful_votes_greater_than_50_percentage_df.filter(helpful_votes_greater_than_50_percentage_df['vine']== 'Y')\r\n",
        "paid_helpful_votes_greater_than_50_percentage_df.describe().show(10)"
      ],
      "execution_count": 19,
      "outputs": [
        {
          "output_type": "stream",
          "text": [
            "+-------+-----------------+------------------+------------------+----+-----------------+\n",
            "|summary|      star_rating|     helpful_votes|       total_votes|vine|verified_purchase|\n",
            "+-------+-----------------+------------------+------------------+----+-----------------+\n",
            "|  count|              607|               607|               607| 607|              607|\n",
            "|   mean|4.098846787479407| 82.49093904448105| 88.79571663920923|null|             null|\n",
            "| stddev|0.983417957496939|144.10161946676772|148.94170492770337|null|             null|\n",
            "|    min|                1|               100|               100|   Y|                N|\n",
            "|    max|                5|                99|                98|   Y|                Y|\n",
            "+-------+-----------------+------------------+------------------+----+-----------------+\n",
            "\n"
          ],
          "name": "stdout"
        }
      ]
    },
    {
      "cell_type": "code",
      "metadata": {
        "id": "HSsdXlNKWwQJ",
        "colab": {
          "base_uri": "https://localhost:8080/"
        },
        "outputId": "397dd000-d3ba-4b61-b322-d3d24f5f9650"
      },
      "source": [
        "# Unpaid reviews\r\n",
        "unpaid_helpful_votes_greater_than_50_percentage_df = helpful_votes_greater_than_50_percentage_df.filter(helpful_votes_greater_than_50_percentage_df['vine']== 'N')\r\n",
        "unpaid_helpful_votes_greater_than_50_percentage_df.describe().show()"
      ],
      "execution_count": 20,
      "outputs": [
        {
          "output_type": "stream",
          "text": [
            "+-------+------------------+------------------+------------------+-----+-----------------+\n",
            "|summary|       star_rating|     helpful_votes|       total_votes| vine|verified_purchase|\n",
            "+-------+------------------+------------------+------------------+-----+-----------------+\n",
            "|  count|             50516|             50516|             50516|50516|            50516|\n",
            "|   mean| 3.861726977591258|60.542184654366935| 65.82423390608916| null|             null|\n",
            "| stddev|1.4369122022574783|122.63668266856274|126.91235294703327| null|             null|\n",
            "|    min|                 1|                10|               100|    N|                N|\n",
            "|    max|                 5|               999|               999|    N|                Y|\n",
            "+-------+------------------+------------------+------------------+-----+-----------------+\n",
            "\n"
          ],
          "name": "stdout"
        }
      ]
    },
    {
      "cell_type": "markdown",
      "metadata": {
        "id": "bZBx-UjvWrVJ"
      },
      "source": [
        "# Percentage of five-star reviews"
      ]
    },
    {
      "cell_type": "code",
      "metadata": {
        "id": "5zoGfZw9W27X",
        "colab": {
          "base_uri": "https://localhost:8080/"
        },
        "outputId": "c762452f-de6d-4db3-de97-d85fd1130c41"
      },
      "source": [
        "number_of_paid_five_star_reviews = paid_helpful_votes_greater_than_50_percentage_df[paid_helpful_votes_greater_than_50_percentage_df['star_rating'] == 5].count()\r\n",
        "total_number_of_paid_reviews = paid_helpful_votes_greater_than_50_percentage_df.count()\r\n",
        "percentage_of_paid_five_star = round(float(number_of_paid_five_star_reviews) / float(total_number_of_paid_reviews),4)\r\n",
        "print(f'Total Number of paid reviews {total_number_of_paid_reviews}')\r\n",
        "print(f'Number of paid five star reviews {number_of_paid_five_star_reviews}')\r\n",
        "print(f'Percentage of five star paid reviews {percentage_of_paid_five_star * 100}%')"
      ],
      "execution_count": 21,
      "outputs": [
        {
          "output_type": "stream",
          "text": [
            "Total Number of paid reviews 607\n",
            "Number of paid five star reviews 257\n",
            "Percentage of five star paid reviews 42.34%\n"
          ],
          "name": "stdout"
        }
      ]
    },
    {
      "cell_type": "markdown",
      "metadata": {
        "id": "U_e75oQ0W-Ol"
      },
      "source": [
        "# Percentage of five-star reviews"
      ]
    },
    {
      "cell_type": "code",
      "metadata": {
        "id": "zMUsW--DXAYl",
        "colab": {
          "base_uri": "https://localhost:8080/"
        },
        "outputId": "7fbfbd13-ede1-4680-a32b-7e27344b7f22"
      },
      "source": [
        "number_of_unpaid_five_star_reviews = unpaid_helpful_votes_greater_than_50_percentage_df[unpaid_helpful_votes_greater_than_50_percentage_df['star_rating']== 5].count()\r\n",
        "total_number_of_unpaid_reviews = unpaid_helpful_votes_greater_than_50_percentage_df.count()\r\n",
        "percentage_of_unpaid_five_star = round(float(number_of_unpaid_five_star_reviews) / float(total_number_of_unpaid_reviews),4)\r\n",
        "print(f'Number of unpaid reviews {total_number_of_unpaid_reviews}')\r\n",
        "print(f'Number of unpaid five star reviews {number_of_unpaid_five_star_reviews}')\r\n",
        "print(f'Percentage of five star unpaid reviews {percentage_of_unpaid_five_star * 100}%')"
      ],
      "execution_count": 12,
      "outputs": [
        {
          "output_type": "stream",
          "text": [
            "Number of unpaid reviews 50516\n",
            "Number of unpaid five star reviews 25216\n",
            "Percentage of five star unpaid reviews 49.919999999999995%\n"
          ],
          "name": "stdout"
        }
      ]
    }
  ]
}
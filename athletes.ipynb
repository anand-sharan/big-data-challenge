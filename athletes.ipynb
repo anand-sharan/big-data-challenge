{
  "nbformat": 4,
  "nbformat_minor": 0,
  "metadata": {
    "colab": {
      "name": "level1.ipynb",
      "provenance": [],
      "collapsed_sections": [],
      "toc_visible": true,
      "authorship_tag": "ABX9TyN3s1CsTbFmwsmsdRMDYnCS",
      "include_colab_link": true
    },
    "kernelspec": {
      "name": "python3",
      "display_name": "Python 3"
    }
  },
  "cells": [
    {
      "cell_type": "markdown",
      "metadata": {
        "id": "view-in-github",
        "colab_type": "text"
      },
      "source": [
        "<a href=\"https://colab.research.google.com/github/anand-sharan/big-data-challenge/blob/main/athletes.ipynb\" target=\"_parent\"><img src=\"https://colab.research.google.com/assets/colab-badge.svg\" alt=\"Open In Colab\"/></a>"
      ]
    },
    {
      "cell_type": "code",
      "metadata": {
        "colab": {
          "base_uri": "https://localhost:8080/"
        },
        "id": "v2Lt0kD3Bl8z",
        "outputId": "5c1ab948-7e12-45d9-98a8-cbc32b8f8ec2"
      },
      "source": [
        "import os\n",
        "# Find the latest version of spark 3.0  from http://www-us.apache.org/dist/spark/ and enter as the spark version\n",
        "# For example:\n",
        "# spark_version = 'spark-3.0.1'\n",
        "spark_version = 'spark-3.0.1'\n",
        "os.environ['SPARK_VERSION']=spark_version\n",
        "\n",
        "# Install Spark and Java\n",
        "!apt-get update\n",
        "!apt-get install openjdk-11-jdk-headless -qq > /dev/null\n",
        "!wget -q http://www-us.apache.org/dist/spark/$SPARK_VERSION/$SPARK_VERSION-bin-hadoop2.7.tgz\n",
        "!tar xf $SPARK_VERSION-bin-hadoop2.7.tgz\n",
        "!pip install -q findspark\n",
        "\n",
        "# Set Environment Variables\n",
        "import os\n",
        "os.environ[\"JAVA_HOME\"] = \"/usr/lib/jvm/java-11-openjdk-amd64\"\n",
        "os.environ[\"SPARK_HOME\"] = f\"/content/{spark_version}-bin-hadoop2.7\"\n",
        "\n",
        "# Start a SparkSession\n",
        "import findspark\n",
        "findspark.init()"
      ],
      "execution_count": null,
      "outputs": [
        {
          "output_type": "stream",
          "text": [
            "\r0% [Working]\r            \rIgn:1 https://developer.download.nvidia.com/compute/cuda/repos/ubuntu1804/x86_64  InRelease\n",
            "\r0% [Connecting to archive.ubuntu.com] [Connecting to security.ubuntu.com] [Wait\r                                                                               \rHit:2 https://cloud.r-project.org/bin/linux/ubuntu bionic-cran40/ InRelease\n",
            "\r0% [Connecting to archive.ubuntu.com] [Connecting to security.ubuntu.com] [Conn\r                                                                               \rIgn:3 https://developer.download.nvidia.com/compute/machine-learning/repos/ubuntu1804/x86_64  InRelease\n",
            "\r0% [Connecting to archive.ubuntu.com] [Connecting to security.ubuntu.com] [Conn\r0% [2 InRelease gpgv 3,626 B] [Connecting to archive.ubuntu.com] [Connecting to\r                                                                               \rHit:4 https://developer.download.nvidia.com/compute/cuda/repos/ubuntu1804/x86_64  Release\n",
            "Hit:5 https://developer.download.nvidia.com/compute/machine-learning/repos/ubuntu1804/x86_64  Release\n",
            "Get:6 http://security.ubuntu.com/ubuntu bionic-security InRelease [88.7 kB]\n",
            "Hit:7 http://archive.ubuntu.com/ubuntu bionic InRelease\n",
            "Hit:8 http://ppa.launchpad.net/c2d4u.team/c2d4u4.0+/ubuntu bionic InRelease\n",
            "Get:10 http://archive.ubuntu.com/ubuntu bionic-updates InRelease [88.7 kB]\n",
            "Hit:12 http://ppa.launchpad.net/cran/libgit2/ubuntu bionic InRelease\n",
            "Hit:13 http://ppa.launchpad.net/graphics-drivers/ppa/ubuntu bionic InRelease\n",
            "Get:14 http://archive.ubuntu.com/ubuntu bionic-backports InRelease [74.6 kB]\n",
            "Fetched 252 kB in 2s (124 kB/s)\n",
            "Reading package lists... Done\n"
          ],
          "name": "stdout"
        }
      ]
    },
    {
      "cell_type": "markdown",
      "metadata": {
        "id": "EDAm7AWkWlp2"
      },
      "source": [
        "**Given the three sides of a triangle, calculate the area of the triangle using Heron's formula**"
      ]
    },
    {
      "cell_type": "code",
      "metadata": {
        "colab": {
          "base_uri": "https://localhost:8080/"
        },
        "id": "vocsjEw1My5W",
        "outputId": "8fff0624-a846-4052-84c9-e6707be68cbb"
      },
      "source": [
        "!wget https://jdbc.postgresql.org/download/postgresql-42.2.9.jar"
      ],
      "execution_count": null,
      "outputs": [
        {
          "output_type": "stream",
          "text": [
            "--2021-02-07 07:23:05--  https://jdbc.postgresql.org/download/postgresql-42.2.9.jar\n",
            "Resolving jdbc.postgresql.org (jdbc.postgresql.org)... 72.32.157.228, 2001:4800:3e1:1::228\n",
            "Connecting to jdbc.postgresql.org (jdbc.postgresql.org)|72.32.157.228|:443... connected.\n",
            "HTTP request sent, awaiting response... 200 OK\n",
            "Length: 914037 (893K) [application/java-archive]\n",
            "Saving to: ‘postgresql-42.2.9.jar.3’\n",
            "\n",
            "postgresql-42.2.9.j 100%[===================>] 892.61K  5.49MB/s    in 0.2s    \n",
            "\n",
            "2021-02-07 07:23:05 (5.49 MB/s) - ‘postgresql-42.2.9.jar.3’ saved [914037/914037]\n",
            "\n"
          ],
          "name": "stdout"
        }
      ]
    },
    {
      "cell_type": "code",
      "metadata": {
        "id": "wOlcTGy7M8c0"
      },
      "source": [
        "from pyspark.sql import SparkSession\n",
        "spark = SparkSession.builder.appName(\"L2\").config(\"spark.driver.extraClassPath\",\"/content/postgresql-42.2.9.jar\").getOrCreate()"
      ],
      "execution_count": null,
      "outputs": []
    },
    {
      "cell_type": "markdown",
      "metadata": {
        "id": "XIixkVqxNg6O"
      },
      "source": [
        "# Loading files into Spark DataFrame"
      ]
    },
    {
      "cell_type": "code",
      "metadata": {
        "colab": {
          "base_uri": "https://localhost:8080/"
        },
        "id": "n0xcZh3SNii1",
        "outputId": "0f1f5f34-2159-4ee9-816f-e09ef06c2c7f"
      },
      "source": [
        "from pyspark import SparkFiles\n",
        "url = \"https://s3.amazonaws.com/amazon-reviews-pds/tsv/amazon_reviews_us_Camera_v1_00.tsv.gz\"\n",
        "spark.sparkContext.addFile(url)\n",
        "cameras_df = spark.read.csv(SparkFiles.get(\"amazon_reviews_us_Camera_v1_00.tsv.gz\"), sep=\"\\t\", header=True, inferSchema=True)\n",
        "cameras_df = cameras_df.dropna()\n",
        "cameras_df = cameras_df.drop_duplicates()\n",
        "cameras_df.show(10)\n"
      ],
      "execution_count": null,
      "outputs": [
        {
          "output_type": "stream",
          "text": [
            "+-----------+-----------+--------------+----------+--------------+--------------------+----------------+-----------+-------------+-----------+----+-----------------+--------------------+--------------------+-----------+\n",
            "|marketplace|customer_id|     review_id|product_id|product_parent|       product_title|product_category|star_rating|helpful_votes|total_votes|vine|verified_purchase|     review_headline|         review_body|review_date|\n",
            "+-----------+-----------+--------------+----------+--------------+--------------------+----------------+-----------+-------------+-----------+----+-----------------+--------------------+--------------------+-----------+\n",
            "|         US|   36712357|R1000XF1ASG0IH|B003ZWZVJA|     800620411|CowboyStudio 168 ...|          Camera|          3|            0|          1|   N|                Y|     Not as pictured|Great light for c...| 2012-01-04|\n",
            "|         US|   43184205|R100HCQTI9KU03|B00HVLDRAQ|     547253826|Foscam FI9831W (B...|          Camera|          5|            0|          1|   N|                Y|When you can't ge...|When you can't ge...| 2014-11-12|\n",
            "|         US|   46246471|R100X5DUIQ0WHZ|B00DSN7A04|     168023778|Zacuto V2 Gorilla...|          Camera|          5|            0|          1|   N|                Y|Very sturdy & Hig...|Very high America...| 2015-06-15|\n",
            "|         US|   50035679|R101ALJ70FC0SV|B003Y2XN9G|     160318205|Fotodiox Lens Mou...|          Camera|          4|            0|          0|   N|                Y|amazing   and wor...|I was amazed at t...| 2011-09-24|\n",
            "|         US|   40870827|R101EXOPW5NQKG|B0002Y5WZC|     755812374|Canon 200DG Digit...|          Camera|          4|            0|          0|   N|                Y|Canon 200 DG Gadg...|Roomy, seems like...| 2009-10-31|\n",
            "|         US|   35489344|R102GMDFYS7VZT|B003VKYQQA|     294239880|Canopy 2-Year Cam...|          Camera|          1|            4|          6|   N|                Y|          Never came|It never came and...| 2013-01-28|\n",
            "|         US|   12266905|R103N5C2JU237J|B00006RH5I|     264608583|Celestron Accesso...|          Camera|          4|            1|          1|   N|                Y|A must have gear ...|Very beautiful ca...| 2013-11-05|\n",
            "|         US|   29495066|R1047HFDDD3CMC|B009EOX2YY|     315702809|Mini HD Waterproo...|          Camera|          3|            3|          5|   N|                Y|Decent watch for ...|The watch, like t...| 2013-03-14|\n",
            "|         US|   35789310|R104LU56P4RIR7|B002K450QI|     729876602|Fotodiox Dedicate...|          Camera|          4|            0|          0|   N|                Y|works great but t...|I realize this is...| 2014-12-22|\n",
            "|         US|    8231011|R104RNS556K80C|B003TQSHYI|     934248704|Marumi 77mm 77 Su...|          Camera|          5|            0|          0|   N|                Y|            Good buy|Good clear protec...| 2015-01-14|\n",
            "+-----------+-----------+--------------+----------+--------------+--------------------+----------------+-----------+-------------+-----------+----+-----------------+--------------------+--------------------+-----------+\n",
            "only showing top 10 rows\n",
            "\n"
          ],
          "name": "stdout"
        }
      ]
    },
    {
      "cell_type": "markdown",
      "metadata": {
        "id": "AF0m2fZ-OA5x"
      },
      "source": [
        "# Display the count of total records in the file"
      ]
    },
    {
      "cell_type": "code",
      "metadata": {
        "colab": {
          "base_uri": "https://localhost:8080/"
        },
        "id": "bqRilaSHN2NH",
        "outputId": "1f10463c-ccb8-4802-9b02-c6f8b159b1f6"
      },
      "source": [
        "cameras_df.count()"
      ],
      "execution_count": null,
      "outputs": [
        {
          "output_type": "execute_result",
          "data": {
            "text/plain": [
              "1801849"
            ]
          },
          "metadata": {
            "tags": []
          },
          "execution_count": 5
        }
      ]
    },
    {
      "cell_type": "markdown",
      "metadata": {
        "id": "jVCQyOunOfmj"
      },
      "source": [
        "# Format data to load into database tables"
      ]
    },
    {
      "cell_type": "code",
      "metadata": {
        "colab": {
          "base_uri": "https://localhost:8080/"
        },
        "id": "89e4-Ph6OSRU",
        "outputId": "4d05b036-c1ac-4aae-fbdc-33cb1a3b407e"
      },
      "source": [
        "from pyspark.sql.functions import to_date\n",
        "# Review DataFrame\n",
        "reviews_id_df = cameras_df.select([\"review_id\", \"customer_id\", \"product_id\", \"product_parent\", to_date(\"review_date\", 'yyyy-mm-dd').alias(\"review_date\")])\n",
        "reviews_id_df.show()"
      ],
      "execution_count": null,
      "outputs": [
        {
          "output_type": "stream",
          "text": [
            "+--------------+-----------+----------+--------------+-----------+\n",
            "|     review_id|customer_id|product_id|product_parent|review_date|\n",
            "+--------------+-----------+----------+--------------+-----------+\n",
            "|R1000XF1ASG0IH|   36712357|B003ZWZVJA|     800620411| 2012-01-04|\n",
            "|R100HCQTI9KU03|   43184205|B00HVLDRAQ|     547253826| 2014-01-12|\n",
            "|R100X5DUIQ0WHZ|   46246471|B00DSN7A04|     168023778| 2015-01-15|\n",
            "|R101ALJ70FC0SV|   50035679|B003Y2XN9G|     160318205| 2011-01-24|\n",
            "|R101EXOPW5NQKG|   40870827|B0002Y5WZC|     755812374| 2009-01-31|\n",
            "|R102GMDFYS7VZT|   35489344|B003VKYQQA|     294239880| 2013-01-28|\n",
            "|R103N5C2JU237J|   12266905|B00006RH5I|     264608583| 2013-01-05|\n",
            "|R1047HFDDD3CMC|   29495066|B009EOX2YY|     315702809| 2013-01-14|\n",
            "|R104LU56P4RIR7|   35789310|B002K450QI|     729876602| 2014-01-22|\n",
            "|R104RNS556K80C|    8231011|B003TQSHYI|     934248704| 2015-01-14|\n",
            "|R105JR8LSCO2KO|   14925333|B0031AQ302|     876440535| 2010-01-04|\n",
            "|R105R0JFYG76C1|   52742862|B003UOMWOK|     329117351| 2013-01-20|\n",
            "|R107CLFB3KFJSQ|   48957639|B00J8LBVWS|      99882141| 2015-01-11|\n",
            "|R107CSS9SMTT0S|   19959508|B000H6J8D2|     767313047| 2014-01-13|\n",
            "|R107G0ZLUZP0BC|   30511709|B0038LJ78E|     730871898| 2010-01-30|\n",
            "|R10920SO6YWM9K|   47123935|B00NFTHQW8|     862081416| 2015-01-24|\n",
            "|R1097JJ44912WZ|   37498381|B0007UQNQ8|     512716094| 2009-01-04|\n",
            "|R109MXP2MZJS0N|   36950704|B00YVH2F7E|     781958917| 2015-01-06|\n",
            "|R10ANLUSNBTO2S|   39180836|B0053EKKCG|     592973813| 2012-01-11|\n",
            "|R10B7FY2Y9VB0S|    4352478|B00152RKK0|      84889719| 2015-01-26|\n",
            "+--------------+-----------+----------+--------------+-----------+\n",
            "only showing top 20 rows\n",
            "\n"
          ],
          "name": "stdout"
        }
      ]
    },
    {
      "cell_type": "markdown",
      "metadata": {
        "id": "x29w2KzAO2T_"
      },
      "source": [
        "# Create Unique products dataframe"
      ]
    },
    {
      "cell_type": "code",
      "metadata": {
        "colab": {
          "base_uri": "https://localhost:8080/"
        },
        "id": "glgQTjdlOv4L",
        "outputId": "687e53d9-366a-4aff-f321-40ced72d6441"
      },
      "source": [
        "products_df = cameras_df.select([\"product_id\", \"product_title\"]).drop_duplicates()\n",
        "products_df.show(10)"
      ],
      "execution_count": null,
      "outputs": [
        {
          "output_type": "stream",
          "text": [
            "+----------+--------------------+\n",
            "|product_id|       product_title|\n",
            "+----------+--------------------+\n",
            "|B000TL3IPY|Calumet MF6829 Um...|\n",
            "|B000JLXF4S|Seven Star SS212 ...|\n",
            "|B00824PAQU|Westcott 577  Whi...|\n",
            "|B00D699YZO|DRIFT HD GHOST & ...|\n",
            "|B007OWOKQW|Fujifilm FinePix ...|\n",
            "|B00004U0FD|Minox CD 140 35mm...|\n",
            "|B002XJ3JL8|Visible Dust EZ S...|\n",
            "|B00CGTN2N0|Queen Spy Mini U8...|\n",
            "|B00004YKDQ|Canon PSC-100 Sof...|\n",
            "|B0076UXKDG|Nikon MB-D12 Mult...|\n",
            "+----------+--------------------+\n",
            "only showing top 10 rows\n",
            "\n"
          ],
          "name": "stdout"
        }
      ]
    },
    {
      "cell_type": "markdown",
      "metadata": {
        "id": "a3Vn31VzPDJK"
      },
      "source": [
        "# Create Reviews dataframe"
      ]
    },
    {
      "cell_type": "code",
      "metadata": {
        "colab": {
          "base_uri": "https://localhost:8080/"
        },
        "id": "ovJpvjaeO-lQ",
        "outputId": "0006085f-8de0-46c9-b0ad-7aee52a05c8a"
      },
      "source": [
        "reviews_df = cameras_df.select([\"review_id\", \"review_headline\", \"review_body\"])\n",
        "reviews_df.show(10)"
      ],
      "execution_count": null,
      "outputs": [
        {
          "output_type": "stream",
          "text": [
            "+--------------+--------------------+--------------------+\n",
            "|     review_id|     review_headline|         review_body|\n",
            "+--------------+--------------------+--------------------+\n",
            "|R1000XF1ASG0IH|     Not as pictured|Great light for c...|\n",
            "|R100HCQTI9KU03|When you can't ge...|When you can't ge...|\n",
            "|R100X5DUIQ0WHZ|Very sturdy & Hig...|Very high America...|\n",
            "|R101ALJ70FC0SV|amazing   and wor...|I was amazed at t...|\n",
            "|R101EXOPW5NQKG|Canon 200 DG Gadg...|Roomy, seems like...|\n",
            "|R102GMDFYS7VZT|          Never came|It never came and...|\n",
            "|R103N5C2JU237J|A must have gear ...|Very beautiful ca...|\n",
            "|R1047HFDDD3CMC|Decent watch for ...|The watch, like t...|\n",
            "|R104LU56P4RIR7|works great but t...|I realize this is...|\n",
            "|R104RNS556K80C|            Good buy|Good clear protec...|\n",
            "+--------------+--------------------+--------------------+\n",
            "only showing top 10 rows\n",
            "\n"
          ],
          "name": "stdout"
        }
      ]
    },
    {
      "cell_type": "markdown",
      "metadata": {
        "id": "ZjxSmkaQPm0M"
      },
      "source": [
        ""
      ]
    },
    {
      "cell_type": "markdown",
      "metadata": {
        "id": "fY-ycYZePm2T"
      },
      "source": [
        "# Create Customers count dataframe"
      ]
    },
    {
      "cell_type": "code",
      "metadata": {
        "colab": {
          "base_uri": "https://localhost:8080/"
        },
        "id": "zCkr7TkDO61Q",
        "outputId": "501d6520-6006-4795-9ea6-4f37cd0e10b8"
      },
      "source": [
        "customers_df = cameras_df.groupby(\"customer_id\").agg({\"customer_id\": \"count\"}).withColumnRenamed(\"count(customer_id)\", \"customer_count\")\n",
        "customers_df.show(10)"
      ],
      "execution_count": null,
      "outputs": [
        {
          "output_type": "stream",
          "text": [
            "+-----------+--------------+\n",
            "|customer_id|customer_count|\n",
            "+-----------+--------------+\n",
            "|   40415719|             2|\n",
            "|   52804016|             2|\n",
            "|   12027367|             2|\n",
            "|   17167957|             1|\n",
            "|   37418901|             5|\n",
            "|   49653393|             5|\n",
            "|   19867350|             1|\n",
            "|   49513864|             1|\n",
            "|   50332375|             1|\n",
            "|   30839996|             5|\n",
            "+-----------+--------------+\n",
            "only showing top 10 rows\n",
            "\n"
          ],
          "name": "stdout"
        }
      ]
    },
    {
      "cell_type": "markdown",
      "metadata": {
        "id": "Kdb-3gLBP5yI"
      },
      "source": [
        "# Create Vine dataframe"
      ]
    },
    {
      "cell_type": "code",
      "metadata": {
        "colab": {
          "base_uri": "https://localhost:8080/"
        },
        "id": "s0k8A6ncPeiv",
        "outputId": "cdf6f71c-728b-429e-ef21-d706b0506e27"
      },
      "source": [
        "vine_df = cameras_df.select([\"review_id\", \"star_rating\", \"helpful_votes\", \"total_votes\", \"vine\"])\n",
        "vine_df.show(10)"
      ],
      "execution_count": null,
      "outputs": [
        {
          "output_type": "stream",
          "text": [
            "+--------------+-----------+-------------+-----------+----+\n",
            "|     review_id|star_rating|helpful_votes|total_votes|vine|\n",
            "+--------------+-----------+-------------+-----------+----+\n",
            "|R1000XF1ASG0IH|          3|            0|          1|   N|\n",
            "|R100HCQTI9KU03|          5|            0|          1|   N|\n",
            "|R100X5DUIQ0WHZ|          5|            0|          1|   N|\n",
            "|R101ALJ70FC0SV|          4|            0|          0|   N|\n",
            "|R101EXOPW5NQKG|          4|            0|          0|   N|\n",
            "|R102GMDFYS7VZT|          1|            4|          6|   N|\n",
            "|R103N5C2JU237J|          4|            1|          1|   N|\n",
            "|R1047HFDDD3CMC|          3|            3|          5|   N|\n",
            "|R104LU56P4RIR7|          4|            0|          0|   N|\n",
            "|R104RNS556K80C|          5|            0|          0|   N|\n",
            "+--------------+-----------+-------------+-----------+----+\n",
            "only showing top 10 rows\n",
            "\n"
          ],
          "name": "stdout"
        }
      ]
    },
    {
      "cell_type": "markdown",
      "metadata": {
        "id": "2m2_fmnsQImN"
      },
      "source": [
        "# Push to AWS RDS instance"
      ]
    },
    {
      "cell_type": "code",
      "metadata": {
        "id": "C6dcnp7IQGW1"
      },
      "source": [
        "mode = \"append\"\n",
        "jdbc_url=\"jdbc:postgresql://mypostgresdb.cbogyvfe8ooe.us-west-1.rds.amazonaws.com:5432/my_data_class_db\"\n",
        "config = {\"user\":\"<username>\", \"password\": \"<password>\", \"driver\":\"org.postgresql.Driver\"}"
      ],
      "execution_count": null,
      "outputs": []
    },
    {
      "cell_type": "code",
      "metadata": {
        "id": "mnEl4LlvRHVb"
      },
      "source": [
        "# Load reviews_df to table in RDS\n",
        "reviews_id_df.write.jdbc(url=jdbc_url, table='junction_review_customer_product', mode=mode, properties=config)"
      ],
      "execution_count": null,
      "outputs": []
    },
    {
      "cell_type": "code",
      "metadata": {
        "id": "nguiIGsVSZD9"
      },
      "source": [
        "# Load products_df to table in RDS\n",
        "products_df.write.jdbc(url=jdbc_url, table='products', mode=mode, properties=config)"
      ],
      "execution_count": null,
      "outputs": []
    },
    {
      "cell_type": "code",
      "metadata": {
        "id": "dkI1q--uSnIi"
      },
      "source": [
        "# Load customers_df to table in RDS\n",
        "customers_df.write.jdbc(url=jdbc_url, table='customers', mode=mode, properties=config)"
      ],
      "execution_count": null,
      "outputs": []
    },
    {
      "cell_type": "code",
      "metadata": {
        "id": "rvY9kPHWSuZZ"
      },
      "source": [
        "# Load vine_df to table in RDS\n",
        "vine_df.write.jdbc(url=jdbc_url, table='vines', mode=mode, properties=config)"
      ],
      "execution_count": null,
      "outputs": []
    }
  ]
}